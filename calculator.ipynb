{
 "cells": [
  {
   "cell_type": "code",
   "execution_count": null,
   "metadata": {},
   "outputs": [
    {
     "name": "stdout",
     "output_type": "stream",
     "text": [
      "1.Add\n",
      "2.Subtract\n",
      "3.Multiply\n",
      "4.Devide\n"
     ]
    }
   ],
   "source": [
    "# define function add two numbers.\n",
    "def add(x, y):\n",
    "       return x + y\n",
    "# define function subtract two numbers.    \n",
    "def subtract(x, y):\n",
    "       return x - y\n",
    "# define function multiplies two numbers.   \n",
    "def multiply(x, y):\n",
    "       return x * y\n",
    "# define function devides two numbers.    \n",
    "def devide(x, y):\n",
    "       return x / y\n",
    "print(\"1.Add\")\n",
    "print(\"2.Subtract\")\n",
    "print(\"3.Multiply\")\n",
    "print(\"4.Devide\")\n",
    "#take input from user\n",
    "choice=input(\"Enter your choice(1/2/3/4:\")\n",
    "num1=float(input(\"Enter first Number:\"))\n",
    "num2=float(input(\"Enter Second Number:\"))\n",
    "if choice=='1':\n",
    "    print(num1, \"+\", num2, \"=\", add(num1,num2))\n",
    "elif choice=='2':\n",
    "    print(num1, \"-\", num2, \"=\", subtract(num1,num2))\n",
    "elif choice=='3':\n",
    "    print(num1, \"*\", num2, \"=\", multiply(num1,num2))\n",
    "elif choice=='4':\n",
    "    print(num1, \"/\", num2, \"=\", devide(num1,num2))\n",
    "else:\n",
    "    print(\"Invalid Input\")\n",
    "\n",
    "    \n",
    "    \n"
   ]
  },
  {
   "cell_type": "markdown",
   "metadata": {},
   "source": []
  },
  {
   "cell_type": "markdown",
   "metadata": {},
   "source": []
  },
  {
   "cell_type": "code",
   "execution_count": null,
   "metadata": {},
   "outputs": [],
   "source": [
    "4\n"
   ]
  }
 ],
 "metadata": {
  "kernelspec": {
   "display_name": "Python 3",
   "language": "python",
   "name": "python3"
  },
  "language_info": {
   "codemirror_mode": {
    "name": "ipython",
    "version": 3
   },
   "file_extension": ".py",
   "mimetype": "text/x-python",
   "name": "python",
   "nbconvert_exporter": "python",
   "pygments_lexer": "ipython3",
   "version": "3.7.6"
  }
 },
 "nbformat": 4,
 "nbformat_minor": 4
}
